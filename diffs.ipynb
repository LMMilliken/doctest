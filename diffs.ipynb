{
    "cells": [
        {
            "cell_type": "code",
            "execution_count": null,
            "metadata": {},
            "outputs": [],
            "source": [
                "import json"
            ]
        },
        {
            "cell_type": "code",
            "execution_count": null,
            "metadata": {},
            "outputs": [],
            "source": [
                "import os \n",
                "result_dir = 'logs/eval'\n",
                "result_files = os.listdir(result_dir)\n",
                "res = []\n",
                "for file in result_files:\n",
                "    if not file.endswith('.json'): continue\n",
                "    with open(os.path.join(result_dir, file), 'r') as f:\n",
                "        results = json.load(f)\n",
                "    if any('categories' in v for round in results for k, v in round.items()):\n",
                "        res.append((file, results))\n"
            ]
        },
        {
            "cell_type": "code",
            "execution_count": null,
            "metadata": {},
            "outputs": [],
            "source": [
                "def get_success_rate(data):\n",
                "    flat = [value for round in data for value in round.values()]"
            ]
        },
        {
            "cell_type": "code",
            "execution_count": null,
            "metadata": {},
            "outputs": [],
            "source": [
                "r = json.load(open(result_dir + '/' + result_files[1]))"
            ]
        },
        {
            "cell_type": "code",
            "execution_count": null,
            "metadata": {},
            "outputs": [],
            "source": [
                "list(repo for round in r for repo in round)"
            ]
        },
        {
            "cell_type": "code",
            "execution_count": null,
            "metadata": {},
            "outputs": [],
            "source": [
                "repo_sets = [\n",
                "    \"eval/resources/python_repos_5k-1k.json\",\n",
                "    \"eval/resources/python_repos_10k-5k.json\",\n",
                "    \"eval/resources/python_repos_20k-10k.json\",\n",
                "    \"eval/resources/python_repos_20k+.json\"\n",
                "]\n",
                "repos = [json.load(open(repo_set, 'r')) for repo_set in repo_sets]\n",
                "repos = [repo for repo_set in repos for repo in repo_set]"
            ]
        },
        {
            "cell_type": "code",
            "execution_count": null,
            "metadata": {},
            "outputs": [],
            "source": [
                "repos_w_docs = list(filter(lambda x: len(x['relevant_docs']) > 0, repos))"
            ]
        },
        {
            "cell_type": "code",
            "execution_count": null,
            "metadata": {},
            "outputs": [],
            "source": [
                "repos_w_docs"
            ]
        },
        {
            "cell_type": "code",
            "execution_count": null,
            "metadata": {},
            "outputs": [],
            "source": [
                "from collections import Counter\n",
                "doc_files = [repo['relevant_docs'] for repo in repos]\n",
                "doc_files_clean = Counter([doc.split('/')[-1].split('.')[0].lower().replace('-', '_') for docs in doc_files for doc in docs])\n",
                "doc_files = Counter([doc for docs in doc_files for doc in docs])\n"
            ]
        },
        {
            "cell_type": "code",
            "execution_count": null,
            "metadata": {},
            "outputs": [],
            "source": [
                "print(f\"total number of repos: {len(repos)}\")\n",
                "print(f\"number of unique paths to relevant documentation: {len(doc_files)}\")\n",
                "print(f\"number of unique names of relevant documentation: {len(doc_files_clean)}\")\n",
                "print(f\"number of repos with no relevant documentation: {len([r for r in repos if len(r['relevant_docs']) == 0])}\")"
            ]
        },
        {
            "cell_type": "code",
            "execution_count": null,
            "metadata": {},
            "outputs": [],
            "source": [
                "from typing import List, Union\n",
                "import matplotlib.pyplot as plt\n",
                "from matplotlib.ticker import MaxNLocator, NullLocator\n",
                "# import scienceplots\n",
                "plt.style.use(['science'])\n",
                "\n",
                "def bar(\n",
                "    values: List[Union[float, int]],\n",
                "    categories: List[str],\n",
                "    x_label: str = \"x\",\n",
                "    y_label: str = \"y\",\n",
                "    title: str = \"title\",\n",
                "):\n",
                "    categories, values = zip(*sorted(zip(categories, values), key=lambda x: x[1] if x[0] != 'other' else -1))\n",
                "    \n",
                "    # remove minor ticks\n",
                "    fig, ax = plt.subplots()\n",
                "    ax.xaxis.set_minor_locator(NullLocator())\n",
                "    ax.yaxis.set_minor_locator(NullLocator())\n",
                "    \n",
                "    plt.bar(categories, values)\n",
                "    plt.xlabel(x_label)\n",
                "    plt.xticks(rotation=90)\n",
                "    plt.ylabel(y_label)\n",
                "    plt.title(title)\n",
                "    plt.tight_layout()\n",
                "    plt.gca().yaxis.set_major_locator(MaxNLocator(integer=True))  # Force y-axis to use whole numbers\n",
                "    plt.savefig(f\"figs/{title.replace(' ', '_')}.pdf\", format=\"pdf\")\n",
                "    plt.show()"
            ]
        },
        {
            "cell_type": "code",
            "execution_count": null,
            "metadata": {},
            "outputs": [],
            "source": [
                "vals = {key: val for key, val in doc_files_clean.items() if val > 1}\n",
                "vals['other'] = sum([v for v in doc_files_clean.values() if v <= 1])\n",
                "bar(vals.values(), vals.keys(), x_label=\"Name of relevant document\", y_label=\"Frequency\", title=\"Frequency of Relevant Documentation Names\")"
            ]
        },
        {
            "cell_type": "code",
            "execution_count": null,
            "metadata": {},
            "outputs": [],
            "source": [
                "import os\n",
                "dockerfiles_dir = 'resources/working_dockerfiles'\n",
                "subdirs = os.listdir(dockerfiles_dir)\n",
                "dockerfile_paths = []\n",
                "dockerfiles = []\n",
                "dockerfile_tags = [frozenset(repo['tags']) for repo in repos if 'tags' in repo]\n",
                "df_filter = lambda x: (\n",
                "    x != '' and not (x.startswith('#')\n",
                "    or x.startswith('FROM') or x.startswith('WORKDIR') or x.startswith('COPY') )\n",
                ")\n",
                "for subdir in subdirs:\n",
                "    for dockerfile in os.listdir(os.path.join(dockerfiles_dir, subdir)):\n",
                "        df = os.path.join(dockerfiles_dir, subdir, dockerfile)\n",
                "        if os.path.isfile(df):\n",
                "            dockerfile_paths.append(df)\n",
                "            dockerfiles.append(list(filter(df_filter, map(lambda x: x.strip(), open(df, 'r').readlines()))))\n",
                "print(len(dockerfile_paths))"
            ]
        },
        {
            "cell_type": "code",
            "execution_count": null,
            "metadata": {},
            "outputs": [],
            "source": [
                "flat_tags = set([tag for tag_set in dockerfile_tags for tag in tag_set])"
            ]
        },
        {
            "cell_type": "code",
            "execution_count": null,
            "metadata": {},
            "outputs": [],
            "source": [
                "print(len(dockerfile_tags))\n",
                "print(len(set(dockerfile_tags)))\n",
                "print(len(flat_tags))"
            ]
        },
        {
            "cell_type": "code",
            "execution_count": null,
            "metadata": {},
            "outputs": [],
            "source": [
                "from pprint import pprint\n",
                "pprint(flat_tags)"
            ]
        },
        {
            "cell_type": "code",
            "execution_count": null,
            "metadata": {},
            "outputs": [],
            "source": [
                "df_set = set('\\n'.join(dockerfile) for dockerfile in dockerfiles)"
            ]
        },
        {
            "cell_type": "code",
            "execution_count": null,
            "metadata": {},
            "outputs": [],
            "source": [
                "print(len(dockerfiles))\n",
                "print(len(df_set))"
            ]
        },
        {
            "cell_type": "code",
            "execution_count": null,
            "metadata": {},
            "outputs": [],
            "source": [
                "pprint(dockerfile_paths)"
            ]
        },
        {
            "cell_type": "code",
            "execution_count": null,
            "metadata": {},
            "outputs": [],
            "source": []
        }
    ],
    "metadata": {
        "kernelspec": {
            "display_name": ".venv",
            "language": "python",
            "name": "python3"
        },
        "language_info": {
            "codemirror_mode": {
                "name": "ipython",
                "version": 3
            },
            "file_extension": ".py",
            "mimetype": "text/x-python",
            "name": "python",
            "nbconvert_exporter": "python",
            "pygments_lexer": "ipython3",
            "version": "3.10.10"
        }
    },
    "nbformat": 4,
    "nbformat_minor": 2
}
