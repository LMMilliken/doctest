{
 "cells": [
  {
   "cell_type": "code",
   "execution_count": 1,
   "metadata": {},
   "outputs": [],
   "source": [
    "import json"
   ]
  },
  {
   "cell_type": "code",
   "execution_count": 2,
   "metadata": {},
   "outputs": [],
   "source": [
    "repo_sets = [\n",
    "    \"eval/resources/python_repos_5k-1k.json\",\n",
    "    \"eval/resources/python_repos_10k-5k.json\",\n",
    "    \"eval/resources/python_repos_20k+.json\"\n",
    "]\n",
    "repos = [json.load(open(repo_set, 'r')) for repo_set in repo_sets]\n",
    "repos = [repo for repo_set in repos for repo in repo_set]"
   ]
  },
  {
   "cell_type": "code",
   "execution_count": 3,
   "metadata": {},
   "outputs": [
    {
     "data": {
      "text/plain": [
       "[{'url': 'https://github.com/mandarons/icloud-drive-docker.git',\n",
       "  'categories': [1],\n",
       "  'test_type': 'pytest',\n",
       "  'relevant_docs': [],\n",
       "  'tags': ['requirements', 'requirements-extra', 'bash-extra', 'pytest'],\n",
       "  'working': True},\n",
       " {'url': 'https://github.com/typeddjango/django-stubs.git',\n",
       "  'categories': [1],\n",
       "  'test_type': 'pytest',\n",
       "  'relevant_docs': ['CONTRIBUTING.md'],\n",
       "  'tags': ['requirements', 'pytest'],\n",
       "  'working': True},\n",
       " {'url': 'https://github.com/Pennyw0rth/NetExec.git',\n",
       "  'categories': [3],\n",
       "  'test_type': 'pytest',\n",
       "  'relevant_docs': ['tests/README.md'],\n",
       "  'working': True,\n",
       "  'tags': ['pipx', 'poetry', 'poetry-extra', 'pytest']},\n",
       " {'url': 'https://github.com/CVHub520/X-AnyLabeling.git',\n",
       "  'categories': [1],\n",
       "  'test_type': 'unittest',\n",
       "  'relevant_docs': ['docs/en/get_started.md'],\n",
       "  'working': False,\n",
       "  'tags': ['pip-extra', 'requirements', 'unittest']},\n",
       " {'url': 'https://github.com/open-compass/opencompass.git',\n",
       "  'categories': [1],\n",
       "  'test_type': 'unittest',\n",
       "  'relevant_docs': ['README.md', 'docs/en/get_started/installation.md'],\n",
       "  'working': False,\n",
       "  'tags': ['requirements', 'compile', 'unittest']},\n",
       " {'url': 'https://github.com/SciPhi-AI/R2R.git',\n",
       "  'categories': [3],\n",
       "  'test_type': 'pytest',\n",
       "  'relevant_docs': [],\n",
       "  'tags': ['poetry', 'pytest']},\n",
       " {'url': 'https://github.com/VainF/Torch-Pruning.git',\n",
       "  'categories': [1],\n",
       "  'test_type': 'pytest',\n",
       "  'working': True,\n",
       "  'relevant_docs': ['README.md'],\n",
       "  'tags': ['requirements', 'pytest']},\n",
       " {'url': 'https://github.com/pypi/warehouse.git',\n",
       "  'categories': [4],\n",
       "  'test_type': 'pytest',\n",
       "  'relevant_docs': ['docs/dev/development/getting-started.rst'],\n",
       "  'tags': ['extra', 'make-test']},\n",
       " {'url': 'https://github.com/sabnzbd/sabnzbd.git',\n",
       "  'categories': [1],\n",
       "  'test_type': 'pytest',\n",
       "  'relevant_docs': ['README.md'],\n",
       "  'working': True,\n",
       "  'tags': ['requirements', 'requirements-extra', 'pytest']},\n",
       " {'url': 'https://github.com/dlt-hub/dlt.git',\n",
       "  'categories': [3],\n",
       "  'test_type': 'pytest',\n",
       "  'relevant_docs': [],\n",
       "  'working': True,\n",
       "  'tags': ['poetry', 'poetry-extra', 'pytest', 'pytest-extra']},\n",
       " {'url': 'https://github.com/boppreh/keyboard.git',\n",
       "  'categories': [2],\n",
       "  'test_type': 'other',\n",
       "  'relevant_docs': ['Makefile', 'README.md'],\n",
       "  'working': False},\n",
       " {'url': 'https://github.com/modelscope/modelscope.git',\n",
       "  'categories': [1],\n",
       "  'test_type': 'make',\n",
       "  'relevant_docs': ['docs/source/develop.md'],\n",
       "  'working': False,\n",
       "  'tags': ['requirements', 'requirements-extra', 'make-test']},\n",
       " {'url': 'https://github.com/boto/boto3.git',\n",
       "  'categories': [1],\n",
       "  'test_type': 'pytest',\n",
       "  'relevant_docs': ['README.rst'],\n",
       "  'working': True,\n",
       "  'tags': ['requirements', 'requirements-extra', 'pytest']},\n",
       " {'url': 'https://github.com/cloud-custodian/cloud-custodian.git',\n",
       "  'categories': [3],\n",
       "  'test_type': 'make',\n",
       "  'relevant_docs': ['docs/source/developer/installing.rst'],\n",
       "  'working': True,\n",
       "  'tags': ['poetry', 'make-install', 'make-test']},\n",
       " {'url': 'https://github.com/aimhubio/aim.git',\n",
       "  'categories': [1],\n",
       "  'test_type': 'pytest',\n",
       "  'relevant_docs': ['CONTRIBUTING.md'],\n",
       "  'working': True,\n",
       "  'tags': ['requirements', 'pytest']},\n",
       " {'url': 'https://github.com/speechbrain/speechbrain.git',\n",
       "  'categories': [1],\n",
       "  'test_type': 'pytest',\n",
       "  'relevant_docs': ['README.md', 'docs/contributing.md'],\n",
       "  'working': False},\n",
       " {'url': 'https://github.com/nonebot/nonebot2.git',\n",
       "  'categories': [3],\n",
       "  'test_type': 'pytest',\n",
       "  'relevant_docs': ['CONTRIBUTING.md'],\n",
       "  'working': True,\n",
       "  'tags': ['poetry', 'poetry-extra', 'pytest']},\n",
       " {'url': 'https://github.com/getmoto/moto.git',\n",
       "  'categories': [1],\n",
       "  'test_type': 'make',\n",
       "  'relevant_docs': ['CONTRIBUTING.md',\n",
       "   'docs/docs/contributing/installation.rst',\n",
       "   'docs/docs/getting_started.rst'],\n",
       "  'working': True,\n",
       "  'tags': ['make-install', 'make-test']},\n",
       " {'url': 'https://github.com/jxnl/instructor.git',\n",
       "  'categories': [3],\n",
       "  'test_type': 'pytest',\n",
       "  'relevant_docs': [],\n",
       "  'working': True,\n",
       "  'tags': ['poetry', 'pytest']},\n",
       " {'url': 'https://github.com/numba/numba.git',\n",
       "  'categories': [1],\n",
       "  'test_type': 'unittest',\n",
       "  'relevant_docs': ['docs/source/user/installing.rst',\n",
       "   'docs/source/developer/contributing.rst'],\n",
       "  'working': False},\n",
       " {'url': 'https://github.com/tiangolo/fastapi.git',\n",
       "  'categories': [1],\n",
       "  'test_type': 'pytest',\n",
       "  'relevant_docs': ['docs/en/docs/contributing.md',\n",
       "   'docs/en/docs/tutorial/testing.md',\n",
       "   'docs/en/docs/deployment/docker.md'],\n",
       "  'tags': ['requirements', 'pytest']},\n",
       " {'url': 'https://github.com/jhao104/proxy_pool.git',\n",
       "  'categories': [1, 4],\n",
       "  'test_type': 'other',\n",
       "  'relevant_docs': ['README.md', 'docs/user/how_to_run.rst']},\n",
       " {'url': 'https://github.com/psf/black.git',\n",
       "  'categories': [4],\n",
       "  'test_type': 'other',\n",
       "  'relevant_docs': ['docs/contributing/the_basics.md']},\n",
       " {'url': 'https://github.com/tqdm/tqdm.git',\n",
       "  'categories': [2],\n",
       "  'test_type': 'other',\n",
       "  'relevant_docs': []},\n",
       " {'url': 'https://github.com/Textualize/rich.git',\n",
       "  'categories': [3],\n",
       "  'test_type': 'pytest',\n",
       "  'relevant_docs': ['CONTRIBUTING.md'],\n",
       "  'tags': ['poetry', 'pytest']},\n",
       " {'url': 'https://github.com/commaai/openpilot.git',\n",
       "  'categories': [3],\n",
       "  'test_type': 'other',\n",
       "  'relevant_docs': ['tools/README.md']},\n",
       " {'url': 'https://github.com/OpenInterpreter/open-interpreter.git',\n",
       "  'categories': [3],\n",
       "  'test_type': 'pytest',\n",
       "  'relevant_docs': ['docs/CONTRIBUTING.md'],\n",
       "  'tags': ['poetry', 'pytest', 'compile']},\n",
       " {'url': 'https://github.com/boppreh/keyboard.git',\n",
       "  'categories': [2],\n",
       "  'test_type': 'other',\n",
       "  'relevant_docs': ['Makefile', 'README.md']},\n",
       " {'url': 'https://github.com/home-assistant/core.git',\n",
       "  'categories': [-1],\n",
       "  'test_type': 'py///test',\n",
       "  'relevant_docs': []},\n",
       " {'url': 'https://github.com/nvbn/thefuck.git',\n",
       "  'categories': [1],\n",
       "  'test_type': 'pytest',\n",
       "  'relevant_docs': ['README.md', 'CONTRIBUTING.md'],\n",
       "  'tags': ['requirements', 'compile', 'pytest']},\n",
       " {'url': 'https://github.com/sherlock-project/sherlock.git',\n",
       "  'categories': [1],\n",
       "  'test_type': 'unittest',\n",
       "  'relevant_docs': []},\n",
       " {'url': 'https://github.com/explosion/spaCy.git',\n",
       "  'categories': [1],\n",
       "  'test_type': 'pytest',\n",
       "  'relevant_docs': ['README.md'],\n",
       "  'tags': ['requirements', 'compile', 'pytest']},\n",
       " {'url': 'https://github.com/soimort/you-get.git',\n",
       "  'categories': [1],\n",
       "  'test_type': 'unittest',\n",
       "  'relevant_docs': ['README.md']},\n",
       " {'url': 'https://github.com/Textualize/textual.git',\n",
       "  'categories': [3],\n",
       "  'test_type': 'pytest',\n",
       "  'relevant_docs': ['CONTRIBUTING.md'],\n",
       "  'tags': ['poetry', 'install-pytest', 'pytest']},\n",
       " {'url': 'https://github.com/deezer/spleeter.git',\n",
       "  'categories': [3],\n",
       "  'test_type': 'pytest',\n",
       "  'relevant_docs': ['README.md'],\n",
       "  'tags': ['poetry', 'install-pytest', 'pytest']},\n",
       " {'url': 'https://github.com/xinntao/Real-ESRGAN.git',\n",
       "  'categories': [3],\n",
       "  'test_type': 'unittest',\n",
       "  'Faulty': True,\n",
       "  'relevant_docs': ['README.md']}]"
      ]
     },
     "execution_count": 3,
     "metadata": {},
     "output_type": "execute_result"
    }
   ],
   "source": [
    "repos"
   ]
  },
  {
   "cell_type": "code",
   "execution_count": 4,
   "metadata": {},
   "outputs": [],
   "source": [
    "doc_files = [repo['relevant_docs'] for repo in repos]\n",
    "doc_files_clean = set([doc.split('/')[-1].split('.')[0].lower().replace('-', '_') for docs in doc_files for doc in docs])\n",
    "doc_files = set([doc for docs in doc_files for doc in docs])\n"
   ]
  },
  {
   "cell_type": "code",
   "execution_count": 5,
   "metadata": {},
   "outputs": [
    {
     "name": "stdout",
     "output_type": "stream",
     "text": [
      "total number of repos: 36\n",
      "number of unique paths to relevant documentation: 22\n",
      "number of unique names of relevant documentation: 12\n",
      "number of repos with no relevant documentation: 7\n"
     ]
    }
   ],
   "source": [
    "print(f\"total number of repos: {len(repos)}\")\n",
    "print(f\"number of unique paths to relevant documentation: {len(doc_files)}\")\n",
    "print(f\"number of unique names of relevant documentation: {len(doc_files_clean)}\")\n",
    "print(f\"number of repos with no relevant documentation: {len([r for r in repos if len(r['relevant_docs']) == 0])}\")"
   ]
  },
  {
   "cell_type": "code",
   "execution_count": 6,
   "metadata": {},
   "outputs": [
    {
     "name": "stdout",
     "output_type": "stream",
     "text": [
      "24\n"
     ]
    }
   ],
   "source": [
    "import os\n",
    "dockerfiles_dir = 'resources/working_dockerfiles'\n",
    "subdirs = os.listdir(dockerfiles_dir)\n",
    "dockerfile_paths = []\n",
    "dockerfiles = []\n",
    "dockerfile_tags = [frozenset(repo['tags']) for repo in repos if 'tags' in repo]\n",
    "df_filter = lambda x: (\n",
    "    x != '' and not (x.startswith('#')\n",
    "    or x.startswith('FROM') or x.startswith('WORKDIR') or x.startswith('COPY') )\n",
    ")\n",
    "for subdir in subdirs:\n",
    "    for dockerfile in os.listdir(os.path.join(dockerfiles_dir, subdir)):\n",
    "        df = os.path.join(dockerfiles_dir, subdir, dockerfile)\n",
    "        if os.path.isfile(df):\n",
    "            dockerfile_paths.append(df)\n",
    "            dockerfiles.append(list(filter(df_filter, map(lambda x: x.strip(), open(df, 'r').readlines()))))\n",
    "print(len(dockerfile_paths))"
   ]
  },
  {
   "cell_type": "code",
   "execution_count": 7,
   "metadata": {},
   "outputs": [
    {
     "name": "stdout",
     "output_type": "stream",
     "text": [
      "24\n",
      "16\n"
     ]
    }
   ],
   "source": [
    "print(len(dockerfile_tags))\n",
    "print(len(set(dockerfile_tags)))"
   ]
  },
  {
   "cell_type": "code",
   "execution_count": 13,
   "metadata": {},
   "outputs": [
    {
     "name": "stdout",
     "output_type": "stream",
     "text": [
      "{frozenset({'poetry', 'pytest', 'pytest-extra', 'poetry-extra'}),\n",
      " frozenset({'make-test', 'poetry', 'make-install'}),\n",
      " frozenset({'poetry', 'pytest', 'compile'}),\n",
      " frozenset({'install-pytest', 'poetry', 'pytest'}),\n",
      " frozenset({'poetry', 'pytest', 'poetry-extra'}),\n",
      " frozenset({'requirements', 'compile', 'unittest'}),\n",
      " frozenset({'requirements', 'pytest', 'compile'}),\n",
      " frozenset({'poetry', 'pytest', 'poetry-extra', 'pipx'}),\n",
      " frozenset({'make-test', 'requirements', 'requirements-extra'}),\n",
      " frozenset({'requirements', 'unittest', 'pip-extra'}),\n",
      " frozenset({'requirements', 'pytest'}),\n",
      " frozenset({'make-test', 'extra'}),\n",
      " frozenset({'requirements', 'pytest', 'requirements-extra', 'bash-extra'}),\n",
      " frozenset({'make-test', 'make-install'}),\n",
      " frozenset({'requirements', 'pytest', 'requirements-extra'}),\n",
      " frozenset({'poetry', 'pytest'})}\n"
     ]
    }
   ],
   "source": [
    "pprint(set(dockerfile_tags))"
   ]
  },
  {
   "cell_type": "code",
   "execution_count": 8,
   "metadata": {},
   "outputs": [
    {
     "name": "stdout",
     "output_type": "stream",
     "text": [
      "['RUN pip install --no-cache-dir -r requirements.txt',\n",
      " 'RUN pip install wheel && pip install --no-build-isolation --editable .',\n",
      " 'RUN pip install pytest',\n",
      " 'RUN pytest']\n"
     ]
    }
   ],
   "source": [
    "from pprint import pprint\n",
    "pprint(dockerfiles[0])"
   ]
  },
  {
   "cell_type": "code",
   "execution_count": 9,
   "metadata": {},
   "outputs": [],
   "source": [
    "df_set = set('\\n'.join(dockerfile) for dockerfile in dockerfiles)"
   ]
  },
  {
   "cell_type": "code",
   "execution_count": 10,
   "metadata": {},
   "outputs": [
    {
     "name": "stdout",
     "output_type": "stream",
     "text": [
      "24\n",
      "19\n"
     ]
    }
   ],
   "source": [
    "print(len(dockerfiles))\n",
    "print(len(df_set))"
   ]
  },
  {
   "cell_type": "code",
   "execution_count": 11,
   "metadata": {},
   "outputs": [
    {
     "name": "stdout",
     "output_type": "stream",
     "text": [
      "['resources/working_dockerfiles/20k+/thefuck.dockerfile',\n",
      " 'resources/working_dockerfiles/20k+/spleeter.dockerfile',\n",
      " 'resources/working_dockerfiles/20k+/textual.dockerfile',\n",
      " 'resources/working_dockerfiles/20k+/open-interpreter.dockerfile',\n",
      " 'resources/working_dockerfiles/20k+/fastapi.dockerfile',\n",
      " 'resources/working_dockerfiles/20k+/spaCy.dockerfile',\n",
      " 'resources/working_dockerfiles/20k+/rich.dockerfile',\n",
      " 'resources/working_dockerfiles/5k-1k/icloud-drive-docker.dockerfile',\n",
      " 'resources/working_dockerfiles/5k-1k/django-stubs.dockerfile',\n",
      " 'resources/working_dockerfiles/5k-1k/torch-pruning.dockerfile',\n",
      " 'resources/working_dockerfiles/5k-1k/r2r.dockerfile',\n",
      " 'resources/working_dockerfiles/5k-1k/opencompass.dockerfile',\n",
      " 'resources/working_dockerfiles/5k-1k/warehouse.dockerfile',\n",
      " 'resources/working_dockerfiles/5k-1k/sabnzbd.dockerfile',\n",
      " 'resources/working_dockerfiles/5k-1k/netexec.dockerfile',\n",
      " 'resources/working_dockerfiles/5k-1k/dlt.dockerfile',\n",
      " 'resources/working_dockerfiles/5k-1k/x-anylabelling.dockerfile',\n",
      " 'resources/working_dockerfiles/10k-5k/cloud-custodian.dockerfile',\n",
      " 'resources/working_dockerfiles/10k-5k/instructor.dockerfile',\n",
      " 'resources/working_dockerfiles/10k-5k/boto3.dockerfile',\n",
      " 'resources/working_dockerfiles/10k-5k/aim.dockerfile',\n",
      " 'resources/working_dockerfiles/10k-5k/modelscope.dockerfile',\n",
      " 'resources/working_dockerfiles/10k-5k/nonebot2.dockerfile',\n",
      " 'resources/working_dockerfiles/10k-5k/moto.dockerfile']\n"
     ]
    }
   ],
   "source": [
    "pprint(dockerfile_paths)"
   ]
  },
  {
   "cell_type": "code",
   "execution_count": null,
   "metadata": {},
   "outputs": [],
   "source": []
  }
 ],
 "metadata": {
  "kernelspec": {
   "display_name": ".venv",
   "language": "python",
   "name": "python3"
  },
  "language_info": {
   "codemirror_mode": {
    "name": "ipython",
    "version": 3
   },
   "file_extension": ".py",
   "mimetype": "text/x-python",
   "name": "python",
   "nbconvert_exporter": "python",
   "pygments_lexer": "ipython3",
   "version": "3.10.12"
  }
 },
 "nbformat": 4,
 "nbformat_minor": 2
}
