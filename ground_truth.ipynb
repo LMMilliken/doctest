{
    "cells": [
        {
            "cell_type": "code",
            "execution_count": 1,
            "metadata": {},
            "outputs": [],
            "source": [
                "import json\n",
                "from typing import Any, Dict"
            ]
        },
        {
            "cell_type": "code",
            "execution_count": 2,
            "metadata": {},
            "outputs": [],
            "source": [
                "\n",
                "from doc_test.consts import REPO_SETS\n",
                "\n",
                "\n",
                "DOCKERFILE_PATH = \"resources/dataset/dockerfiles\"\n",
                "def load_repos():\n",
                "    repos = {repo_set: json.load(open(repo_set, 'r')) for repo_set in REPO_SETS.values()}\n",
                "    return repos"
            ]
        },
        {
            "cell_type": "code",
            "execution_count": 3,
            "metadata": {},
            "outputs": [],
            "source": [
                "repos = load_repos()"
            ]
        },
        {
            "cell_type": "code",
            "execution_count": 4,
            "metadata": {},
            "outputs": [],
            "source": [
                "def calc_visbility(repo: Dict[str, Any]):\n",
                "    # Calculate the \"visibility\" of a repo's documentation based on the following heursitic\n",
                "    # 1 / (num directories to navigate + num files to find)\n",
                "    dirs = [relevant.split('/') for relevant in repo['relevant_docs']]\n",
                "    paths = [['/'.join(repo_dirs[:i+1]) for i in range(len(repo_dirs))] for repo_dirs in dirs]\n",
                "    visibility = set([d for directories in paths for d in directories])\n",
                "    return 1 / len(visibility) if len(visibility) > 0 else 0"
            ]
        },
        {
            "cell_type": "code",
            "execution_count": 5,
            "metadata": {},
            "outputs": [
                {
                    "name": "stdout",
                    "output_type": "stream",
                    "text": [
                        "https://github.com/tiangolo/fastapi.git\n",
                        " - docs/en/docs/contributing.md, docs/en/docs/tutorial/testing.md\n",
                        " - 0.16666666666666666\n",
                        "https://github.com/psf/black.git\n",
                        " - docs/contributing/the_basics.md\n",
                        " - 0.3333333333333333\n",
                        "https://github.com/tqdm/tqdm.git\n",
                        " - \n",
                        " - 0\n",
                        "https://github.com/Textualize/rich.git\n",
                        " - CONTRIBUTING.md\n",
                        " - 1.0\n",
                        "https://github.com/OpenInterpreter/open-interpreter.git\n",
                        " - docs/CONTRIBUTING.md\n",
                        " - 0.5\n",
                        "https://github.com/home-assistant/core.git\n",
                        " - \n",
                        " - 0\n",
                        "https://github.com/sherlock-project/sherlock.git\n",
                        " - \n",
                        " - 0\n",
                        "https://github.com/explosion/spaCy.git\n",
                        " - README.md\n",
                        " - 1.0\n",
                        "https://github.com/soimort/you-get.git\n",
                        " - README.md\n",
                        " - 1.0\n",
                        "https://github.com/Textualize/textual.git\n",
                        " - CONTRIBUTING.md\n",
                        " - 1.0\n"
                    ]
                }
            ],
            "source": [
                "for repo in repos[REPO_SETS[-1]]:\n",
                "    print(repo['url'])\n",
                "    print(\" - \" + ', '.join(repo['relevant_docs']))\n",
                "    visibility = calc_visbility(repo)\n",
                "    repo['visibility'] = visibility\n",
                "    print(\" - \" + str(visibility))\n"
            ]
        },
        {
            "cell_type": "code",
            "execution_count": 8,
            "metadata": {},
            "outputs": [],
            "source": [
                "import os\n",
                "from difflib import get_close_matches\n",
                "from pprint import pprint\n",
                "from tqdm import tqdm\n",
                "from doc_test.agent.functions import _get_file_contents, get_api_url\n",
                "\n",
                "def get_dockerfile(repo, set_name):\n",
                "    name = repo['url'].split('/')[-1][:-4]\n",
                "    set_name = set_name.split('_')[-1][:-5]\n",
                "    dockerfile_path = os.path.join(DOCKERFILE_PATH, set_name, name.lower()+'.dockerfile')\n",
                "    if not os.path.exists(dockerfile_path):\n",
                "        print(f\"path {dockerfile_path} does not exist\")\n",
                "        return -2, []\n",
                "    dockerfile = open(dockerfile_path, 'r').readlines()\n",
                "\n",
                "    return dockerfile\n",
                "\n",
                "def calc_informativity(repo: Dict[str, Any], set_name: str):\n",
                "    # Calculate the \"informativity\" of a repo's documentation based on the following heuristic\n",
                "    # (Num lines in model dockerfile that appear in documentation) / (Num lines in model dockerfile total)\n",
                "\n",
                "    # step 1: load dockerfile\n",
                "    dockerfile = get_dockerfile(repo, set_name)\n",
                "\n",
                "    dockerfile = [\n",
                "        ' '.join(line.split(' ')[1:]).strip()\n",
                "        for line in dockerfile\n",
                "        if not (\n",
                "            line.startswith('COPY') or line.startswith('WORKDIR') or line.strip() == ''\n",
                "        )\n",
                "    ]\n",
                "\n",
                "    # step 2: load documents\n",
                "    if len(repo['relevant_docs']) == 0:\n",
                "        return -1, []\n",
                "    api_url = get_api_url(repo['url'])\n",
                "    documents = [_get_file_contents(api_url, path, repo['ref']).split('\\n') for path in repo['relevant_docs']]\n",
                "\n",
                "    # step 3: find dockerfile lines that occur in documentation\n",
                "    matched_lines = {}\n",
                "    for doc, doc_name in zip(documents, repo['relevant_docs']):\n",
                "        for line in doc:\n",
                "            matches = get_close_matches(line, dockerfile, cutoff=0.8)\n",
                "            if len(matches) > 0:\n",
                "                if matches[0] not in matched_lines:\n",
                "                    matched_lines[matches[0]] = []\n",
                "                matched_lines[matches[0]].append((line, doc_name))\n",
                "            else:\n",
                "                for df_line in dockerfile:\n",
                "                    if df_line in line:\n",
                "                        if df_line not in matched_lines:\n",
                "                            matched_lines[df_line] = []\n",
                "                        matched_lines[df_line].append((line, doc_name))\n",
                "\n",
                "    return (len(matched_lines) / len(dockerfile), matched_lines)"
            ]
        },
        {
            "cell_type": "code",
            "execution_count": 9,
            "metadata": {},
            "outputs": [
                {
                    "name": "stdout",
                    "output_type": "stream",
                    "text": [
                        "https://github.com/mandarons/icloud-drive-docker.git 8cbcc2c\n",
                        " - \n",
                        "https://github.com/typeddjango/django-stubs.git b325955\n",
                        " - CONTRIBUTING.md\n",
                        "https://github.com/PennyLaneAI/pennylane.git b78565c\n",
                        " - .github/CONTRIBUTING.md, doc/development/guide/installation.rst, doc/development/guide/tests.rst\n",
                        "https://github.com/CVHub520/X-AnyLabeling.git 7c62ffb\n",
                        " - docs/en/get_started.md\n",
                        "https://github.com/open-compass/opencompass.git 7c7fa36\n",
                        " - README.md, docs/en/get_started/installation.md\n",
                        "https://github.com/SciPhi-AI/R2R.git 712defb\n",
                        " - docs/documentation/installation/local-system.mdx\n",
                        "https://github.com/VainF/Torch-Pruning.git 88e7472\n",
                        " - README.md\n",
                        "https://github.com/scverse/scvi-tools.git e8f9b36\n",
                        " - docs/developer/code.md\n",
                        " - informativity = 0.3333333333333333\n",
                        " - visibility = 0.3333333333333333\n",
                        "https://github.com/sabnzbd/sabnzbd.git 07250aa\n",
                        " - README.md\n",
                        "https://github.com/dlt-hub/dlt.git 6451bd7\n",
                        " - CONTRIBUTING.md\n",
                        "https://github.com/camel-ai/camel.git b8e1f5c\n",
                        " - README.md, CONTRIBUTING.md, docs/get_started/setup.md\n",
                        "https://github.com/boto/boto3.git 4e31351\n",
                        " - README.rst\n",
                        "https://github.com/cloud-custodian/cloud-custodian.git 59a1944\n",
                        " - docs/source/developer/installing.rst\n",
                        "https://github.com/aimhubio/aim.git a566d4a\n",
                        " - CONTRIBUTING.md\n",
                        "https://github.com/speechbrain/speechbrain.git dd65e12\n",
                        " - README.md, docs/contributing.md\n",
                        "https://github.com/nonebot/nonebot2.git be4f360\n",
                        " - CONTRIBUTING.md\n",
                        "https://github.com/getmoto/moto.git 255d2b8\n",
                        " - CONTRIBUTING.md, docs/docs/contributing/installation.rst, docs/docs/getting_started.rst\n",
                        "https://github.com/jxnl/instructor.git 959097e\n",
                        " - \n",
                        "https://github.com/numba/numba.git a344e8f\n",
                        " - docs/source/user/installing.rst, docs/source/developer/contributing.rst\n",
                        "https://github.com/pymc-devs/pymc.git 0cc291a\n",
                        " - docs/source/contributing/running_the_test_suite.md, docs/source/contributing/pr_tutorial.md\n",
                        "https://github.com/ranaroussi/yfinance.git 3fe87cb\n",
                        " - \n",
                        "https://github.com/beetbox/beets.git 54b2435\n",
                        " - CONTRIBUTING.rst\n",
                        "https://github.com/encode/starlette.git 2d0dde8\n",
                        " - docs/contributing.md, scripts/README.md\n",
                        "https://github.com/huggingface/datasets.git ca58154\n",
                        " - CONTRIBUTING.md\n",
                        "https://github.com/python/mypy.git 0c10367\n",
                        " - CONTRIBUTING.md\n",
                        "https://github.com/sympy/sympy.git 05e3ffc\n",
                        " - README.md, doc/src/install.md\n",
                        "https://github.com/ydataai/ydata-profiling.git e94e500\n",
                        " - docs/support-contribution/contribution_guidelines.md, README.md\n",
                        "https://github.com/spotDL/spotify-downloader.git 866dadd\n",
                        " - docs/CONTRIBUTING.md, README.md\n",
                        "https://github.com/microsoft/qlib.git ca9f186\n",
                        " - docs/developer/code_standard_and_dev_guide.rst, README.md\n",
                        "https://github.com/secdev/scapy.git 30b0398\n",
                        " - README.md, doc/scapy/development.rst\n",
                        "https://github.com/tiangolo/fastapi.git 212fd5e\n",
                        " - docs/en/docs/contributing.md, docs/en/docs/tutorial/testing.md\n",
                        "https://github.com/psf/black.git 98a580b\n",
                        " - docs/contributing/the_basics.md\n",
                        "https://github.com/tqdm/tqdm.git 951a2ba\n",
                        " - \n",
                        "https://github.com/Textualize/rich.git d0de442\n",
                        " - CONTRIBUTING.md\n",
                        "https://github.com/OpenInterpreter/open-interpreter.git dbc5259\n",
                        " - docs/CONTRIBUTING.md\n",
                        "https://github.com/home-assistant/core.git 7555f20\n",
                        " - \n",
                        "https://github.com/sherlock-project/sherlock.git f7075e1\n",
                        " - \n",
                        "https://github.com/explosion/spaCy.git 30f1f33\n",
                        " - README.md\n",
                        "https://github.com/soimort/you-get.git c4042d0\n",
                        " - README.md\n",
                        "https://github.com/Textualize/textual.git 4c0efd5\n",
                        " - CONTRIBUTING.md\n"
                    ]
                }
            ],
            "source": [
                "# CALCULATE BOTH HEURISTICS FOR ALL REPOS\n",
                "for repo_set in REPO_SETS:\n",
                "    for repo in repos[repo_set]:\n",
                "        print(repo['url'], repo['ref'])\n",
                "        print(\" - \" + ', '.join(repo['relevant_docs']))\n",
                "        if 'info' not in repo or repo['info'] is None:\n",
                "            info = calc_informativity(repo, repo_set)\n",
                "            repo['info'] = info[0]\n",
                "            print(\" - informativity = \" + str(info[0]))\n",
                "        if 'visibility' not in repo or repo['visibility'] is None:\n",
                "            visibility = calc_visbility(repo)\n",
                "            repo['visibility'] = visibility\n",
                "            print(\" - visibility = \" + str(visibility))"
            ]
        },
        {
            "cell_type": "code",
            "execution_count": 10,
            "metadata": {},
            "outputs": [],
            "source": [
                "# WRITE HEURISTICS  \n",
                "for repo_set in REPO_SETS:\n",
                "    with open(repo_set, 'w') as f:\n",
                "        json.dump(repos[repo_set], f)"
            ]
        },
        {
            "cell_type": "code",
            "execution_count": 6,
            "metadata": {},
            "outputs": [],
            "source": [
                "from vm_control import VMController, test_dockerfile\n",
                "from doc_test.utils import notify\n",
                "\n",
                "def get_repo(name):\n",
                "    return [(r, repo_set) for repo_set in REPO_SETS for r in repos[repo_set] if name.lower() in r['url'].lower()]\n",
                "\n",
                "def test_repo(repo, repo_set):\n",
                "    name = repo['url'].split('/')[-1][:-4]\n",
                "    vmc = VMController(f\"working_logs/{name}.log\")\n",
                "    result = test_dockerfile(\n",
                "        repo['url'],\n",
                "        \"\\n\".join(get_dockerfile(repo, repo_set)),\n",
                "        name,\n",
                "        vmc,\n",
                "        repo['ref']\n",
                "    )\n",
                "    vmc.clear_cache()\n",
                "    return result"
            ]
        },
        {
            "cell_type": "code",
            "execution_count": 7,
            "metadata": {},
            "outputs": [
                {
                    "data": {
                        "text/plain": [
                            "({'url': 'https://github.com/scverse/scvi-tools.git',\n",
                            "  'categories': [4],\n",
                            "  'test_type': 'pytest',\n",
                            "  'relevant_docs': ['docs/developer/code.md'],\n",
                            "  'tags': ['install-self', 'pytest', 'pytest-extra'],\n",
                            "  'ref': 'e8f9b36'},\n",
                            " 'eval/resources/python_repos_5k-1k.json')"
                        ]
                    },
                    "execution_count": 7,
                    "metadata": {},
                    "output_type": "execute_result"
                }
            ],
            "source": [
                "get_repo(\"scvi\")[0]"
            ]
        },
        {
            "cell_type": "code",
            "execution_count": 12,
            "metadata": {},
            "outputs": [
                {
                    "name": "stdout",
                    "output_type": "stream",
                    "text": [
                        "FROM python:3.10\n",
                        "\n",
                        "WORKDIR /app\n",
                        "\n",
                        "COPY . /app/\n",
                        "\n",
                        "\n",
                        "\n",
                        "RUN pip install -e \".[dev]\"\n",
                        "\n",
                        "\n",
                        "\n",
                        "RUN python -m pytest -x\n",
                        "\n",
                        "attempting to build using dockerfile, logs written to working_logs/scvi-tools.log.\n",
                        "/tmp/tmp.CkSCrHVwDa/scvi-tools\n"
                    ]
                },
                {
                    "name": "stderr",
                    "output_type": "stream",
                    "text": [
                        "Warning: Permanently added '[localhost]:3022' (ED25519) to the list of known hosts.\n"
                    ]
                },
                {
                    "name": "stdout",
                    "output_type": "stream",
                    "text": [
                        "At least 1 test passed.\n",
                        "Docker build completed successfully on virtual machine.\n"
                    ]
                },
                {
                    "name": "stderr",
                    "output_type": "stream",
                    "text": [
                        "Error response from daemon: No such image: temp_image:latest\n"
                    ]
                },
                {
                    "name": "stdout",
                    "output_type": "stream",
                    "text": [
                        "Deleted build cache objects:\n",
                        "iassgcruzgc3tr9j8uxen3c1s\n",
                        "bxnyo2fy2b42p2x86gqqxxoak\n",
                        "jibxs9u3elymjz9325tsx5rfw\n",
                        "wkrbtczvom6l5fl6vfnwy3062\n",
                        "azozrnz2699wlkwmqpxet1yj9\n",
                        "lk3hjhsg9bh57yswo8yj47wdf\n",
                        "rwxt085x2mxz21ffyx0fkf1yg\n",
                        "w5vy3n6likwi5r30edt94p8fq\n",
                        "pkn4o6w93y4rymxovivu4m4r6\n",
                        "nzgqp30qca5c486uny9ydxuh5\n",
                        "ga5b4uixh96ibxkxscvpphof0\n",
                        "blklpj2trz4fukgsw9t51asu0\n",
                        "gui7hekjk7jjr9j0nbu1ymnpb\n",
                        "plgwn0lios7kgin2a021oy709\n",
                        "fq6hnrhruuud3eltxobr0qybq\n",
                        "a6qyu3d8c6flryi575zctcphd\n",
                        "\n",
                        "Total reclaimed space: 22.9GB\n"
                    ]
                },
                {
                    "data": {
                        "text/plain": [
                            "True"
                        ]
                    },
                    "execution_count": 12,
                    "metadata": {},
                    "output_type": "execute_result"
                }
            ],
            "source": [
                "test_repo(*get_repo(\"scvi\")[0])"
            ]
        },
        {
            "cell_type": "code",
            "execution_count": 21,
            "metadata": {},
            "outputs": [
                {
                    "name": "stdout",
                    "output_type": "stream",
                    "text": [
                        "come back!\n"
                    ]
                }
            ],
            "source": [
                "notify(\"come back!\")"
            ]
        },
        {
            "cell_type": "code",
            "execution_count": 12,
            "metadata": {},
            "outputs": [],
            "source": [
                "repeat = [\n",
                "    'r2r',\n",
                "    'torch-pruning',\n",
                "    'boto3',\n",
                "    'cloud-custodian',\n",
                "    'aim',\n",
                "    'instructor',\n",
                "    'yfinance',\n",
                "    'datasets',\n",
                "    'sympy',\n",
                "    'core'\n",
                "    ]"
            ]
        },
        {
            "cell_type": "code",
            "execution_count": 17,
            "metadata": {},
            "outputs": [
                {
                    "name": "stdout",
                    "output_type": "stream",
                    "text": [
                        "FROM python:3.10\n",
                        "\n",
                        "\n",
                        "\n",
                        "COPY . /app/\n",
                        "\n",
                        "\n",
                        "\n",
                        "WORKDIR /app\n",
                        "\n",
                        "\n",
                        "\n",
                        "RUN pip install -e .\n",
                        "\n",
                        "\n",
                        "\n",
                        "RUN python -m unittest discover\n",
                        "\n",
                        "attempting to build using dockerfile, logs written to working_logs/opencompass.log.\n",
                        "/tmp/tmp.62i7JxsKSP/opencompass\n"
                    ]
                },
                {
                    "name": "stderr",
                    "output_type": "stream",
                    "text": [
                        "Warning: Permanently added '[localhost]:3022' (ED25519) to the list of known hosts.\n"
                    ]
                },
                {
                    "name": "stdout",
                    "output_type": "stream",
                    "text": [
                        "At least 1 test passed.\n",
                        "Docker build completed successfully on virtual machine.\n",
                        "Untagged: temp_image:latest\n",
                        "Deleted: sha256:6f6a48576883e124fcf1b6d8248a045959c99e32fb54022c30f337fceb95439e\n",
                        "Deleted build cache objects:\n",
                        "vfo1myje4kkm1ioo4sh8xvxn9\n",
                        "zrcw7cdv3ibetgcq0j96nx0v7\n",
                        "ianbb455cmioxvex93ex6ypu6\n",
                        "1snzd7lbvzd16yrvw05getlzh\n",
                        "m3j4xe2h7n9x2qq4c68u0a0v0\n",
                        "sdy4nab14jd7zaeeasteil4ie\n",
                        "9v8erlkohv21mkns95i63tpjd\n",
                        "mf8fakufezsauc9qspu4l4fvc\n",
                        "qr0zfd6xmzt3nrul5lo0x84wb\n",
                        "r0f9705td7i63xwy8truwglvi\n",
                        "yke383yzije6hnbq0v54832gc\n",
                        "afvvlxd21zneach04tqdisvbz\n",
                        "pusm9qoxy9b73zp7qfpzh57jg\n",
                        "nj75dy0710nd7q5hgwqlrf6vl\n",
                        "\n",
                        "Total reclaimed space: 9.247GB\n",
                        "(0/12) opencompass: True\n",
                        "FROM python:3.11\n",
                        "\n",
                        "WORKDIR /app\n",
                        "\n",
                        "COPY . /app/\n",
                        "\n",
                        "RUN pip install poetry\n",
                        "\n",
                        "RUN poetry install\n",
                        "\n",
                        "RUN poetry run pytest\n",
                        "\n",
                        "\n",
                        "attempting to build using dockerfile, logs written to working_logs/R2R.log.\n",
                        "/tmp/tmp.wLJJKS70R3/R2R\n"
                    ]
                },
                {
                    "name": "stderr",
                    "output_type": "stream",
                    "text": [
                        "Warning: Permanently added '[localhost]:3022' (ED25519) to the list of known hosts.\n",
                        "Error response from daemon: No such image: temp_image:latest\n"
                    ]
                },
                {
                    "name": "stdout",
                    "output_type": "stream",
                    "text": [
                        "Deleted build cache objects:\n",
                        "1q3rnz8iljmxngv1z2nieadru\n",
                        "ufm2ychjoakvqk3z1dj7vhysn\n",
                        "yt3yo5d7butcc9h3c4hdkny88\n",
                        "k1u32mzafpuwm3bcphubs1jjy\n",
                        "bm8xpqrb7aufl6tn6fylrps01\n",
                        "c884nju7wnitb3nzgjpv2ekjy\n",
                        "8o13nohj4w0k9m9wdiamhg7lb\n",
                        "u8ylnjwqabkep1sbftz31gt4l\n",
                        "n9f7myt6dd9ip2scgbkk4lw22\n",
                        "nar5d4hvzsgl4tqf87kn4qt9d\n",
                        "hy2b5twi5ze41q35m1ze1kghb\n",
                        "mz4pix5yhbaoh0tgg43dzamb3\n",
                        "rjrh3r6nngztkagx1erids3os\n",
                        "\n",
                        "Total reclaimed space: 209.8MB\n",
                        "(1/12) r2r: False\n",
                        "FROM python:3.10\n",
                        "\n",
                        "WORKDIR /app\n",
                        "\n",
                        "COPY . /app/\n",
                        "\n",
                        "\n",
                        "\n",
                        "RUN pip install -r requirements.txt\n",
                        "\n",
                        "RUN pip install torchvision\n",
                        "\n",
                        "RUN pip install pytest\n",
                        "\n",
                        "\n",
                        "\n",
                        "RUN pytest\n",
                        "\n",
                        "attempting to build using dockerfile, logs written to working_logs/Torch-Pruning.log.\n",
                        "/tmp/tmp.eHF0tkpwhB/Torch-Pruning\n"
                    ]
                },
                {
                    "name": "stderr",
                    "output_type": "stream",
                    "text": [
                        "Warning: Permanently added '[localhost]:3022' (ED25519) to the list of known hosts.\n",
                        "Error response from daemon: No such image: temp_image:latest\n"
                    ]
                },
                {
                    "name": "stdout",
                    "output_type": "stream",
                    "text": [
                        "Deleted build cache objects:\n",
                        "piju5f38qwl69gs39x9qog99u\n",
                        "um63ffpqssmizsyo3ei2xo23u\n",
                        "rjqh38lnjwsjev9mggf996psl\n",
                        "7afvec7cexzz0sf29hbmnmuow\n",
                        "aye6u3vvzo8k199qwmjjau8t4\n",
                        "udyhmxpxwssks9eqampatdupf\n",
                        "vab3briduekfhvjvtre7dnozo\n",
                        "7fulxdcs7euqahc47blrtwge9\n",
                        "1hhwhkqp2nlq1ml5nlxr0wytz\n",
                        "rzr506fv2tfq4px4wjle8gdy4\n",
                        "2br8ke99hs05tyy8voum2yead\n",
                        "tjdwk6s5nedqmgtnesnidl2zb\n",
                        "\n",
                        "Total reclaimed space: 28.24MB\n",
                        "(2/12) torch-pruning: False\n",
                        "FROM python:3.10\n",
                        "\n",
                        "WORKDIR /app\n",
                        "\n",
                        "COPY . /app/\n",
                        "\n",
                        "RUN pip install -r requirements.txt\n",
                        "\n",
                        "RUN make tests\n",
                        "\n",
                        "attempting to build using dockerfile, logs written to working_logs/warehouse.log.\n",
                        "/tmp/tmp.T4cP83QUVy/warehouse\n"
                    ]
                },
                {
                    "name": "stderr",
                    "output_type": "stream",
                    "text": [
                        "Warning: Permanently added '[localhost]:3022' (ED25519) to the list of known hosts.\n",
                        "Error response from daemon: No such image: temp_image:latest\n"
                    ]
                },
                {
                    "name": "stdout",
                    "output_type": "stream",
                    "text": [
                        "Deleted build cache objects:\n",
                        "em92784d5t8oonbc6mvu8sym8\n",
                        "g0pixpgskpxbog14an50v3uw9\n",
                        "zuw4ak7eyr3f4llx3pt6ulanz\n",
                        "sw0q97ommhfnyrzqhnjvd9sic\n",
                        "dpfvjxd57qxv7liqpaea3lwk8\n",
                        "etvghcuab25pkm5o008f7ig3k\n",
                        "jru1kmcb985bxcqpkfuxyu4ea\n",
                        "848uow113uor29sw8vdh8yr1u\n",
                        "qhdol0yos1v55j8jxjlildtuj\n",
                        "3qpra6tnvw0x1cos3l64chgsb\n",
                        "p6yc74d2xp4d3xlya3n483epu\n",
                        "jqlvcku4woer9xkszqffzdua0\n",
                        "\n",
                        "Total reclaimed space: 1.013GB\n",
                        "(3/12) warehouse: False\n",
                        "FROM python:3.8\n",
                        "\n",
                        "\n",
                        "\n",
                        "COPY . /app/\n",
                        "\n",
                        "\n",
                        "\n",
                        "WORKDIR /app\n",
                        "\n",
                        "\n",
                        "\n",
                        "RUN pip install -r requirements.txt\n",
                        "\n",
                        "RUN pip install -r requirements-dev.txt\n",
                        "\n",
                        "\n",
                        "\n",
                        "RUN pytest\n",
                        "\n",
                        "attempting to build using dockerfile, logs written to working_logs/boto3.log.\n",
                        "/tmp/tmp.aa5XYPZtq7/boto3\n"
                    ]
                },
                {
                    "name": "stderr",
                    "output_type": "stream",
                    "text": [
                        "Warning: Permanently added '[localhost]:3022' (ED25519) to the list of known hosts.\n",
                        "Error response from daemon: No such image: temp_image:latest\n"
                    ]
                },
                {
                    "name": "stdout",
                    "output_type": "stream",
                    "text": [
                        "Deleted build cache objects:\n",
                        "xxbg83chndijb344jz8eptuei\n",
                        "m84v8atyyisxttzrdd7wilbgs\n",
                        "t4atwtrk4n4ryenwg7pwbjeo8\n",
                        "7u05vmmsyiixymvj1divqv3qy\n",
                        "i7u8cuh45lifv1yvdo1b0ycqb\n",
                        "v7i4uu8688v1b7jzz3fla0235\n",
                        "8pn4egnam52w3pbibv3zzibdw\n",
                        "dzymwiecxdflt6tm87dclw2xe\n",
                        "7hcxb31hiki6th2urms8yglxk\n",
                        "kxlva6yfs9tjtbvbb67u84z18\n",
                        "uwcc2v06jin4tirk68unhgeun\n",
                        "mba2userhh2c1k3dn5x35d6nl\n",
                        "a1oifhgl586p6bvu9rgjxo7wn\n",
                        "ia1aq39wdhxrne75ctrdkqrj5\n",
                        "\n",
                        "Total reclaimed space: 188.4MB\n",
                        "(4/12) boto3: False\n",
                        "# Use the official Python image as base\n",
                        "\n",
                        "FROM python:3.8\n",
                        "\n",
                        "\n",
                        "\n",
                        "# Set the working directory in the container\n",
                        "\n",
                        "WORKDIR /app\n",
                        "\n",
                        "\n",
                        "\n",
                        "# Copy the entire repository into the container\n",
                        "\n",
                        "COPY . /app/\n",
                        "\n",
                        "\n",
                        "\n",
                        "# Install Poetry\n",
                        "\n",
                        "RUN pip install poetry\n",
                        "\n",
                        "\n",
                        "\n",
                        "# Installing project dependencies\n",
                        "\n",
                        "RUN poetry install\n",
                        "\n",
                        "\n",
                        "\n",
                        "RUN poetry run make install\n",
                        "\n",
                        "\n",
                        "\n",
                        "RUN poetry run make test\n",
                        "\n",
                        "attempting to build using dockerfile, logs written to working_logs/cloud-custodian.log.\n",
                        "/tmp/tmp.cLnMiixV8M/cloud-custodian\n"
                    ]
                },
                {
                    "name": "stderr",
                    "output_type": "stream",
                    "text": [
                        "Warning: Permanently added '[localhost]:3022' (ED25519) to the list of known hosts.\n",
                        "Error response from daemon: No such image: temp_image:latest\n"
                    ]
                },
                {
                    "name": "stdout",
                    "output_type": "stream",
                    "text": [
                        "Deleted build cache objects:\n",
                        "oa7bisif55t04d9n79h0wxr1r\n",
                        "gcrg3sy37mnaqubzzf9g7cbdv\n",
                        "qmunjp0udyc9y97xxgc34vdvm\n",
                        "t3ehayivhn4e2ok5bpsu0o78a\n",
                        "ktdekmywgh2wt4qtckrobia1o\n",
                        "qbczf9swqfk7biytimxdgwrij\n",
                        "ajf01nvxkcbdbvd2ip9ugktka\n",
                        "xoz7d3jpjwjz1wa9mk90esjuw\n",
                        "qjmvh2o743ny6b40na1h5w9xs\n",
                        "kai32nwo86edg16zyokxab5sy\n",
                        "p8lf0y8i0bacgud0ogqgbkxwg\n",
                        "nkr38hrdchp03w3pd5rfrpyys\n",
                        "hitc7ig4l8inccim9ry3kuk4v\n",
                        "\n",
                        "Total reclaimed space: 91.75MB\n",
                        "(5/12) cloud-custodian: False\n",
                        "FROM python:3.8\n",
                        "\n",
                        "\n",
                        "\n",
                        "COPY . /app/\n",
                        "\n",
                        "\n",
                        "\n",
                        "WORKDIR /app\n",
                        "\n",
                        "\n",
                        "\n",
                        "RUN pip install -r tests/requirements.txt\n",
                        "\n",
                        "\n",
                        "\n",
                        "RUN pytest\n",
                        "\n",
                        "attempting to build using dockerfile, logs written to working_logs/aim.log.\n",
                        "/tmp/tmp.1GOQ9TZvLV/aim\n"
                    ]
                },
                {
                    "name": "stderr",
                    "output_type": "stream",
                    "text": [
                        "Warning: Permanently added '[localhost]:3022' (ED25519) to the list of known hosts.\n",
                        "Error response from daemon: No such image: temp_image:latest\n"
                    ]
                },
                {
                    "name": "stdout",
                    "output_type": "stream",
                    "text": [
                        "Deleted build cache objects:\n",
                        "sffauzuuxtmt4pzey3ttnccd2\n",
                        "0gzb03gmd0ai6stheszd64tlx\n",
                        "x3h3pnh2q9qr4jn9wwya3srwv\n",
                        "8hw6pvs0cqurdy53t8km8g4xr\n",
                        "c3ux8uj5o5dfg1f52szvjntc3\n",
                        "lw2sbze3jfgpzrk2ttjo76fyz\n",
                        "tolufom0uodh1gwx8k5zq1i78\n",
                        "h4q0b4hdkspcrt2uv2d3jlov4\n",
                        "x4tum9f9fltujb86obibzg99f\n",
                        "qdnqbvua8coc45bv1n5rli6lk\n",
                        "ops3rlr5186fpkflbxr92rab4\n",
                        "31zp6anrdp12zxv583k2fuwl9\n",
                        "\n",
                        "Total reclaimed space: 224.6MB\n",
                        "(6/12) aim: False\n",
                        "# Use the official Python image as base\n",
                        "\n",
                        "FROM python:3.8\n",
                        "\n",
                        "\n",
                        "\n",
                        "# Set the working directory in the container\n",
                        "\n",
                        "WORKDIR /app\n",
                        "\n",
                        "\n",
                        "\n",
                        "# Copy the entire repository into the container\n",
                        "\n",
                        "COPY . /app/\n",
                        "\n",
                        "\n",
                        "\n",
                        "# Install Poetry\n",
                        "\n",
                        "RUN pip install poetry\n",
                        "\n",
                        "\n",
                        "\n",
                        "# Installing project dependencies\n",
                        "\n",
                        "RUN poetry install\n",
                        "\n",
                        "\n",
                        "\n",
                        "# Run the test suite\n",
                        "\n",
                        "RUN poetry run pytest\n",
                        "\n",
                        "attempting to build using dockerfile, logs written to working_logs/instructor.log.\n",
                        "/tmp/tmp.zho2nvuzFp/instructor\n"
                    ]
                },
                {
                    "name": "stderr",
                    "output_type": "stream",
                    "text": [
                        "Warning: Permanently added '[localhost]:3022' (ED25519) to the list of known hosts.\n",
                        "Error response from daemon: No such image: temp_image:latest\n"
                    ]
                },
                {
                    "name": "stdout",
                    "output_type": "stream",
                    "text": [
                        "Deleted build cache objects:\n",
                        "ndbt3091ypg8s2mfkgrk5rh4v\n",
                        "23ufrf32wf6mu8oeg4ahvq7c4\n",
                        "z7wffmesvo2m2x415r2x3anto\n",
                        "k7ai69si4ltvw3e3utt1b3tpn\n",
                        "wjf5quzj2uollf1spwwwotaf6\n",
                        "v1ht2pxfbjjd6vnjda5fc0yxk\n",
                        "9ehtirgyx3lkgj503l8p1di1t\n",
                        "yootybus45pke6lpwwfy2t2vm\n",
                        "twqe8b7hm5esn6ir6y8r4hu7r\n",
                        "1ppm411bwh4bvs862o2e0jg4u\n",
                        "q8ilafim4pc8oxvto1vweallv\n",
                        "0s3gmxywf4sr3v53dw6koyus5\n",
                        "jqng18j5fnzgd4dehxq7zpcuj\n",
                        "7rqwmtrt4qqelj063wij8qpaq\n",
                        "\n",
                        "Total reclaimed space: 1.288GB\n",
                        "(7/12) instructor: False\n",
                        "FROM python:3.8\n",
                        "\n",
                        "\n",
                        "\n",
                        "COPY . /app/\n",
                        "\n",
                        "\n",
                        "\n",
                        "WORKDIR /app\n",
                        "\n",
                        "\n",
                        "\n",
                        "RUN pip install -r requirements.txt\n",
                        "\n",
                        "RUN pip install requests_cache requests_ratelimiter\n",
                        "\n",
                        "\n",
                        "\n",
                        "RUN python -m unittest discover\n",
                        "\n",
                        "attempting to build using dockerfile, logs written to working_logs/yfinance.log.\n",
                        "/tmp/tmp.Ll2ZcZliDb/yfinance\n"
                    ]
                },
                {
                    "name": "stderr",
                    "output_type": "stream",
                    "text": [
                        "Warning: Permanently added '[localhost]:3022' (ED25519) to the list of known hosts.\n",
                        "Error response from daemon: No such image: temp_image:latest\n"
                    ]
                },
                {
                    "name": "stdout",
                    "output_type": "stream",
                    "text": [
                        "Deleted build cache objects:\n",
                        "dj8w3umexs1q2gib7betx8awu\n",
                        "jb2urzy15nlm64rifg0y1s3qs\n",
                        "2u5zy1rh0gqjdve7vl0gvl76g\n",
                        "4rqdmc3eokf4lay8roqde8a72\n",
                        "s1bgflq5v1z6gydwlwioxox8s\n",
                        "z3ke2k79ylclkon62c5p23x45\n",
                        "gctuhxa6ayasg4f62hncpskb5\n",
                        "0v9wtzc7sj9aeaxfcsggukfoi\n",
                        "curb5025av3z8sx1lk7ohrogw\n",
                        "m8sh4xwudezidpo4pfipbx8cp\n",
                        "y23o3mmigijmz5wtpexjgflgs\n",
                        "9actk1xl2v2wm68zfwnxap6d9\n",
                        "opxu92u7m6b09a96y9w4alug1\n",
                        "r0c2ftk1ol9vn5otm44l73x8o\n",
                        "\n",
                        "Total reclaimed space: 214.8MB\n",
                        "(8/12) yfinance: False\n",
                        "FROM python:3.11\n",
                        "\n",
                        "\n",
                        "\n",
                        "COPY . /app/\n",
                        "\n",
                        "\n",
                        "\n",
                        "WORKDIR /app\n",
                        "\n",
                        "\n",
                        "\n",
                        "RUN pip install -r \".[dev]\"\n",
                        "\n",
                        "\n",
                        "\n",
                        "RUN make test\n",
                        "\n",
                        "attempting to build using dockerfile, logs written to working_logs/datasets.log.\n",
                        "/tmp/tmp.J9aXtzZ21K/datasets\n"
                    ]
                },
                {
                    "name": "stderr",
                    "output_type": "stream",
                    "text": [
                        "Warning: Permanently added '[localhost]:3022' (ED25519) to the list of known hosts.\n",
                        "Error response from daemon: No such image: temp_image:latest\n"
                    ]
                },
                {
                    "name": "stdout",
                    "output_type": "stream",
                    "text": [
                        "Deleted build cache objects:\n",
                        "t2wgofijwhdiawg5onkptr75s\n",
                        "yjnb6vuxn6gw5vryxvkvfx7wk\n",
                        "3didvs8t0wzjwp7vtd0sgc3pc\n",
                        "qes09ydwnhex9p9ffsp0nenjt\n",
                        "6b0dvltb0sgv9ay7k2byg2sg3\n",
                        "frtzxmzotbk5m58m89vdn23rw\n",
                        "4ditgk1rc85ezn66og1uww9nl\n",
                        "bwz3sb49w9emre5y380jalc5b\n",
                        "y10na5d2i7vghq9xq83jt2s85\n",
                        "lz6ufalrqgnnrmwkos8ake446\n",
                        "s4kleph0yj6tpybmowhr2l1n7\n",
                        "wra1479jedwc221lp3p2utmai\n",
                        "\n",
                        "Total reclaimed space: 196MB\n",
                        "(9/12) datasets: False\n",
                        "FROM python:3.11\n",
                        "\n",
                        "\n",
                        "\n",
                        "COPY . /app/\n",
                        "\n",
                        "\n",
                        "\n",
                        "WORKDIR /app\n",
                        "\n",
                        "\n",
                        "\n",
                        "RUN pip install mpmath\n",
                        "\n",
                        "\n",
                        "\n",
                        "RUN python setup.py test\n",
                        "\n",
                        "attempting to build using dockerfile, logs written to working_logs/sympy.log.\n",
                        "/tmp/tmp.Z8reZlwEE8/sympy\n"
                    ]
                },
                {
                    "name": "stderr",
                    "output_type": "stream",
                    "text": [
                        "Warning: Permanently added '[localhost]:3022' (ED25519) to the list of known hosts.\n"
                    ]
                },
                {
                    "name": "stdout",
                    "output_type": "stream",
                    "text": [
                        "INTERRUPTING\n"
                    ]
                },
                {
                    "name": "stderr",
                    "output_type": "stream",
                    "text": [
                        "Error response from daemon: No such image: temp_image:latest\n"
                    ]
                },
                {
                    "name": "stdout",
                    "output_type": "stream",
                    "text": [
                        "Total reclaimed space: 0B\n",
                        "(10/12) sympy: False\n",
                        "FROM python:3.12\n",
                        "\n",
                        "\n",
                        "\n",
                        "COPY . /app/\n",
                        "\n",
                        "\n",
                        "\n",
                        "WORKDIR /app\n",
                        "\n",
                        "\n",
                        "\n",
                        "RUN pip install -r requirements_all.txt\n",
                        "\n",
                        "RUN pip install -r requirements_test_all.txt\n",
                        "\n",
                        "\n",
                        "\n",
                        "RUN python -m unittest discover\n",
                        "\n",
                        "attempting to build using dockerfile, logs written to working_logs/core.log.\n",
                        "/tmp/tmp.jHEGzQ6SO9/core\n"
                    ]
                },
                {
                    "name": "stderr",
                    "output_type": "stream",
                    "text": [
                        "Warning: Permanently added '[localhost]:3022' (ED25519) to the list of known hosts.\n",
                        "Error response from daemon: No such image: temp_image:latest\n"
                    ]
                },
                {
                    "name": "stdout",
                    "output_type": "stream",
                    "text": [
                        "Deleted build cache objects:\n",
                        "w23rbu8i9j9931maodgopm4lb\n",
                        "xvxpj4rz1zd9dt7teqxsuut11\n",
                        "skf6lpnzp5w77szvqcjdnicpx\n",
                        "lc97xm45p4xy07exzvl9pyb3u\n",
                        "mdpi3oyfg150q6jczchq74yn4\n",
                        "23ep90s604evqt2v7uy731zoy\n",
                        "f927f7t35q401t1dpb6kzzkep\n",
                        "rabrkerayla8x95uuy21l25xh\n",
                        "l6qgwc4f1vy79g3nkayi5x6hp\n",
                        "uz95q3wbxpgvqaopeajhdgbw0\n",
                        "k9rguazt3pqenm6bssur1v3db\n",
                        "lexaozqxz5y7w714i8dxbpz8r\n",
                        "16br5uvi1ix2jqg2lr5338rzc\n",
                        "xxjxbtaeynm9l65c27lffytzs\n",
                        "yixgax0oyr4tvmavdxaw7o5um\n",
                        "jvslqbg6hzhf5f6b6owja8ifw\n",
                        "gpjfiynwu0a7vwf111ph8h45z\n",
                        "hesecll5o3ivs09nwhpo61iu3\n",
                        "pjigdjjcjg1c0gdo1he552ryt\n",
                        "2vfbes6c30g9448spirtoryfn\n",
                        "xu7sq7pa4vxc197ubck18xeya\n",
                        "xa7cwx49wjhs1x8tqoq5e8kl0\n",
                        "n3tcqfqy6suhbai8zgxaysmxo\n",
                        "\n",
                        "Total reclaimed space: 4.283GB\n",
                        "(11/12) core: False\n"
                    ]
                }
            ],
            "source": [
                "for i, r in enumerate(repeat):\n",
                "    success = test_repo(*get_repo(r)[0])\n",
                "    notify(f\"({i}/{len(repeat)}) {r}: {success}\")"
            ]
        },
        {
            "cell_type": "code",
            "execution_count": null,
            "metadata": {},
            "outputs": [],
            "source": []
        }
    ],
    "metadata": {
        "kernelspec": {
            "display_name": ".venv",
            "language": "python",
            "name": "python3"
        },
        "language_info": {
            "codemirror_mode": {
                "name": "ipython",
                "version": 3
            },
            "file_extension": ".py",
            "mimetype": "text/x-python",
            "name": "python",
            "nbconvert_exporter": "python",
            "pygments_lexer": "ipython3",
            "version": "3.10.12"
        }
    },
    "nbformat": 4,
    "nbformat_minor": 2
}
