{
 "cells": [
  {
   "cell_type": "code",
   "execution_count": 2,
   "metadata": {},
   "outputs": [],
   "source": [
    "import json\n",
    "from typing import Any, Dict"
   ]
  },
  {
   "cell_type": "code",
   "execution_count": 26,
   "metadata": {},
   "outputs": [],
   "source": [
    "REPO_SETS = [\n",
    "    'eval/resources/python_repos_5k-1k.json',\n",
    "    'eval/resources/python_repos_10k-5k.json',\n",
    "    'eval/resources/python_repos_20k-10k.json',\n",
    "    'eval/resources/python_repos_20k+.json'\n",
    "]\n",
    "DOCKERFILE_PATH = \"resources/working_dockerfiles\"\n",
    "def load_repos():\n",
    "    repos = {repo_set: json.load(open(repo_set, 'r')) for repo_set in REPO_SETS}\n",
    "    return repos"
   ]
  },
  {
   "cell_type": "code",
   "execution_count": 34,
   "metadata": {},
   "outputs": [],
   "source": [
    "repos = load_repos()"
   ]
  },
  {
   "cell_type": "code",
   "execution_count": 42,
   "metadata": {},
   "outputs": [],
   "source": [
    "def calc_visbility(repo: Dict[str, Any]):\n",
    "    # Calculate the \"visibility\" of a repo's documentation based on the following heursitic\n",
    "    # 1 / (num directories to navigate + num files to find)\n",
    "    dirs = [relevant.split('/') for relevant in repo['relevant_docs']]\n",
    "    paths = [['/'.join(repo_dirs[:i+1]) for i in range(len(repo_dirs))] for repo_dirs in dirs]\n",
    "    visibility = set([d for directories in paths for d in directories])\n",
    "    return 1 / len(visibility) if len(visibility) > 0 else 0"
   ]
  },
  {
   "cell_type": "code",
   "execution_count": 43,
   "metadata": {},
   "outputs": [
    {
     "name": "stdout",
     "output_type": "stream",
     "text": [
      "https://github.com/tiangolo/fastapi.git\n",
      " - docs/en/docs/contributing.md, docs/en/docs/tutorial/testing.md\n",
      " - 0.16666666666666666\n",
      "https://github.com/psf/black.git\n",
      " - docs/contributing/the_basics.md\n",
      " - 0.3333333333333333\n",
      "https://github.com/tqdm/tqdm.git\n",
      " - \n",
      " - 0\n",
      "https://github.com/Textualize/rich.git\n",
      " - CONTRIBUTING.md\n",
      " - 1.0\n",
      "https://github.com/OpenInterpreter/open-interpreter.git\n",
      " - docs/CONTRIBUTING.md\n",
      " - 0.5\n",
      "https://github.com/home-assistant/core.git\n",
      " - \n",
      " - 0\n",
      "https://github.com/sherlock-project/sherlock.git\n",
      " - \n",
      " - 0\n",
      "https://github.com/explosion/spaCy.git\n",
      " - README.md\n",
      " - 1.0\n",
      "https://github.com/soimort/you-get.git\n",
      " - README.md\n",
      " - 1.0\n",
      "https://github.com/Textualize/textual.git\n",
      " - CONTRIBUTING.md\n",
      " - 1.0\n"
     ]
    }
   ],
   "source": [
    "for repo in repos[REPO_SETS[-1]]:\n",
    "    print(repo['url'])\n",
    "    print(\" - \" + ', '.join(repo['relevant_docs']))\n",
    "    print(\" - \" + str(calc_visbility(repo)))\n"
   ]
  },
  {
   "cell_type": "code",
   "execution_count": 61,
   "metadata": {},
   "outputs": [],
   "source": [
    "import os\n",
    "from difflib import get_close_matches\n",
    "from pprint import pprint\n",
    "from tqdm import tqdm\n",
    "from doc_test.agent.functions import _get_file_contents, get_api_url\n",
    "\n",
    "def calc_informativity(repo: Dict[str, Any], set_name: str):\n",
    "    # Calculate the \"informativity\" of a repo's documentation based on the following heuristic\n",
    "    # (Num lines in model dockerfile that appear in documentation) / (Num lines in model dockerfile total)\n",
    "\n",
    "    # step 1: load dockerfile\n",
    "    name = repo['url'].split('/')[-1][:-4]\n",
    "    set_name = set_name.split('_')[-1][:-5]\n",
    "    dockerfile_path = os.path.join(DOCKERFILE_PATH, set_name, name+'.dockerfile')\n",
    "    if not os.path.exists(dockerfile_path):\n",
    "        return -2, []\n",
    "    dockerfile = open(dockerfile_path, 'r').readlines()\n",
    "\n",
    "    dockerfile = [\n",
    "        ' '.join(line.split(' ')[1:]).strip()\n",
    "        for line in dockerfile\n",
    "        if not (\n",
    "            line.startswith('COPY') or line.startswith('WORKDIR') or line.strip() == ''\n",
    "        )\n",
    "    ]\n",
    "    # step 2: load documents\n",
    "    if len(repo['relevant_docs']) == 0:\n",
    "        return -1, []\n",
    "    api_url = get_api_url(repo['url'])\n",
    "    documents = [_get_file_contents(api_url, path, repo['ref']).split('\\n') for path in repo['relevant_docs']]\n",
    "\n",
    "    # step 3: find dockerfile lines that occur in documentation\n",
    "    matched_lines = {}\n",
    "    for doc, doc_name in zip(documents, repo['relevant_docs']):\n",
    "        for line in doc:\n",
    "            matches = get_close_matches(line, dockerfile, cutoff=0.8)\n",
    "            if len(matches) > 0:\n",
    "                if matches[0] not in matched_lines:\n",
    "                    matched_lines[matches[0]] = []\n",
    "                matched_lines[matches[0]].append((line, doc_name))\n",
    "            else:\n",
    "                for df_line in dockerfile:\n",
    "                    if df_line in line:\n",
    "                        if df_line not in matched_lines:\n",
    "                            matched_lines[df_line] = []\n",
    "                        matched_lines[df_line].append((line, doc_name))\n",
    "\n",
    "    return (len(matched_lines) / len(dockerfile), matched_lines)"
   ]
  },
  {
   "cell_type": "code",
   "execution_count": 62,
   "metadata": {},
   "outputs": [
    {
     "name": "stdout",
     "output_type": "stream",
     "text": [
      "https://github.com/tiangolo/fastapi.git\n",
      " - docs/en/docs/contributing.md, docs/en/docs/tutorial/testing.md\n",
      " - 0.6666666666666666\n",
      "https://github.com/psf/black.git\n",
      " - docs/contributing/the_basics.md\n",
      " - -2\n",
      "https://github.com/tqdm/tqdm.git\n",
      " - \n",
      " - -1\n",
      "https://github.com/Textualize/rich.git\n",
      " - CONTRIBUTING.md\n",
      " - 0.25\n",
      "https://github.com/OpenInterpreter/open-interpreter.git\n",
      " - docs/CONTRIBUTING.md\n",
      " - 0.2857142857142857\n",
      "https://github.com/home-assistant/core.git\n",
      " - \n",
      " - -1\n",
      "https://github.com/sherlock-project/sherlock.git\n",
      " - \n",
      " - -2\n",
      "https://github.com/explosion/spaCy.git\n",
      " - README.md\n",
      " - 0.6\n",
      "https://github.com/soimort/you-get.git\n",
      " - README.md\n",
      " - 0.25\n",
      "https://github.com/Textualize/textual.git\n",
      " - CONTRIBUTING.md\n",
      " - 0.0\n"
     ]
    }
   ],
   "source": [
    "for repo in repos[REPO_SETS[-1]]:\n",
    "    print(repo['url'])\n",
    "    print(\" - \" + ', '.join(repo['relevant_docs']))\n",
    "    info = calc_informativity(repo, REPO_SETS[-1])\n",
    "    repo['info'] = info[0]\n",
    "    print(\" - \" + str(info[0]))"
   ]
  },
  {
   "cell_type": "code",
   "execution_count": null,
   "metadata": {},
   "outputs": [],
   "source": []
  }
 ],
 "metadata": {
  "kernelspec": {
   "display_name": ".venv",
   "language": "python",
   "name": "python3"
  },
  "language_info": {
   "codemirror_mode": {
    "name": "ipython",
    "version": 3
   },
   "file_extension": ".py",
   "mimetype": "text/x-python",
   "name": "python",
   "nbconvert_exporter": "python",
   "pygments_lexer": "ipython3",
   "version": "3.10.12"
  }
 },
 "nbformat": 4,
 "nbformat_minor": 2
}
